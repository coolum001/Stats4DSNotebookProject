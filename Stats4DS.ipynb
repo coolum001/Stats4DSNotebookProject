{
 "cells": [
  {
   "cell_type": "code",
   "execution_count": 42,
   "metadata": {},
   "outputs": [],
   "source": [
    "%matplotlib inline"
   ]
  },
  {
   "cell_type": "code",
   "execution_count": 119,
   "metadata": {},
   "outputs": [],
   "source": [
    "import numpy as np\n",
    "import pandas as pd\n",
    "\n",
    "import urllib.request\n",
    "from pathlib import Path\n",
    "import matplotlib.pyplot as plt\n",
    "\n",
    "import scipy\n",
    "import scipy.stats as stats\n",
    "import statsmodels.robust as rb\n",
    "import humanize as hu"
   ]
  },
  {
   "cell_type": "code",
   "execution_count": 78,
   "metadata": {},
   "outputs": [
    {
     "name": "stdout",
     "output_type": "stream",
     "text": [
      "1.0.0\n",
      "1.14.1\n"
     ]
    }
   ],
   "source": [
    "print(scipy.__version__)\n",
    "print(scipy.__numpy_version__)"
   ]
  },
  {
   "cell_type": "code",
   "execution_count": 13,
   "metadata": {},
   "outputs": [],
   "source": [
    "\n",
    "# ...\n",
    "# Download the file from `url` and save it locally under `file_name`:\n",
    "# urllib.request.urlretrieve(url, file_name)"
   ]
  },
  {
   "cell_type": "code",
   "execution_count": 14,
   "metadata": {},
   "outputs": [],
   "source": [
    "PSDS_PATH = './data/'\n",
    "\n",
    "def download_from_google_drive(id,fname,path):\n",
    "    '''\n",
    "    download_from_google_drive: download data files from Prac. Stats. for Data Science\n",
    "    \n",
    "    Downloads a data set, if not already present\n",
    "    \n",
    "    Arguments:\n",
    "    id (string) id of a google drive file to append to google drive url\n",
    "    fname (string) name of data set, used to save to local drive\n",
    "    path (string) path to save file to\n",
    "    \n",
    "    Outputs:\n",
    "    Reports if file present, or if download is needed\n",
    "    \n",
    "    Returns:\n",
    "    None\n",
    "    '''\n",
    "    \n",
    "    dest = PSDS_PATH+fname\n",
    "    url = \"https://drive.google.com/uc?export=download&id=\"+id\n",
    "    \n",
    "    my_file = Path(dest)\n",
    "    if(my_file.exists()):\n",
    "        print(dest+' already present')\n",
    "    else:\n",
    "        \n",
    "        print('Downloading ',id, ' to: ',dest)\n",
    "        urllib.request.urlretrieve(url, dest)\n",
    "    #end if\n",
    "    return None\n",
    "#end download_from_google_drive"
   ]
  },
  {
   "cell_type": "code",
   "execution_count": 15,
   "metadata": {},
   "outputs": [
    {
     "name": "stdout",
     "output_type": "stream",
     "text": [
      "./data/state.csv already present\n"
     ]
    }
   ],
   "source": [
    "\n",
    "## Import state data\n",
    "download_from_google_drive(id=\"0B98qpkK5EJembFc5RmVKVVJPdGc\", fname='state.csv', path=PSDS_PATH)"
   ]
  },
  {
   "cell_type": "code",
   "execution_count": 16,
   "metadata": {},
   "outputs": [
    {
     "name": "stdout",
     "output_type": "stream",
     "text": [
      "./data/dfw_airline.csv already present\n",
      "./data/airline_stats.csv already present\n",
      "./data/sp500_px.csv already present\n",
      "./data/sp500_sym.csv already present\n",
      "./data/kc_tax.csv already present\n",
      "./data/lc_loans.csv already present\n",
      "./data/full_train_set.csv already present\n",
      "./data/loan200.csv already present\n",
      "./data/loan3000.csv already present\n",
      "./data/loan_data.csv already present\n",
      "./data/loans_income.csv already present\n",
      "./data/web_page_data.csv already present\n",
      "./data/four_sessions.csv already present\n",
      "./data/click_rates.csv already present\n",
      "./data/imanishi_data.csv already present\n",
      "./data/LungDisease.csv already present\n",
      "./data/County_Zhvi_AllHomes.csv already present\n",
      "./data/house_sales.csv already present\n"
     ]
    }
   ],
   "source": [
    "\n",
    "\n",
    "## Airline data\n",
    "download_from_google_drive(id=\"0B98qpkK5EJemcmZYX2VhMHBXelE\", fname='dfw_airline.csv', path=PSDS_PATH)\n",
    "download_from_google_drive(id=\"0B98qpkK5EJemMzZYZHZJaF9va0U\", fname='airline_stats.csv', path=PSDS_PATH)\n",
    "\n",
    "## Import stock data\n",
    "download_from_google_drive('0B98qpkK5EJemV2htZWdhVFRMNlU', fname='sp500_px.csv', path=PSDS_PATH)\n",
    "download_from_google_drive('0B98qpkK5EJemY0U0N1N6a21lUzA', fname='sp500_sym.csv', path=PSDS_PATH)\n",
    "\n",
    "## Import KC housing tax data\n",
    "download_from_google_drive('0B98qpkK5EJemck5VWkszN3F3RGM', fname='kc_tax.csv', path=PSDS_PATH)\n",
    "\n",
    "## Import lending club loan data\n",
    "download_from_google_drive('0B98qpkK5EJemRXpfa2lONlFRSms', fname='lc_loans.csv', path=PSDS_PATH)\n",
    "download_from_google_drive('1J96vAqyh92VIeh7kBFm1NBfZcvx8wp2s', fname='full_train_set.csv', path=PSDS_PATH)\n",
    "\n",
    "## Import a sample of 200 records from lending club loan data\n",
    "download_from_google_drive('0B98qpkK5EJemd0JnQUtjb051dTA', fname='loan200.csv', path=PSDS_PATH)\n",
    "\n",
    "## Import a sample of 3000 records from lending club loan data\n",
    "download_from_google_drive('0B98qpkK5EJemQXYtYmJUVkdsN1U', fname='loan3000.csv', path=PSDS_PATH)\n",
    "\n",
    "\n",
    "## Import a complete set of records from lending club loan data\n",
    "download_from_google_drive('0B98qpkK5EJemZzdoQ2I3SWlBYzg', fname='loan_data.csv', path=PSDS_PATH)\n",
    "\n",
    "## Import loans income data\n",
    "download_from_google_drive('0B98qpkK5EJemRXVld0NSbWhYNVU', fname='loans_income.csv', path=PSDS_PATH)\n",
    "\n",
    "## Import session_times data\n",
    "download_from_google_drive('0B98qpkK5EJemOC0xMHBTTEowYzg', fname='web_page_data.csv', path=PSDS_PATH)\n",
    "\n",
    "## Import four_sessions data\n",
    "download_from_google_drive('0B98qpkK5EJemOFdZM1JsaEF0Mnc', fname='four_sessions.csv', path=PSDS_PATH)\n",
    "\n",
    "## Import click_rate data\n",
    "download_from_google_drive('0B98qpkK5EJemVHB0ZzdtUG9SeTg', fname='click_rates.csv', path=PSDS_PATH)\n",
    "\n",
    "## Import imanishi data\n",
    "download_from_google_drive('0B98qpkK5EJemZTJnUDd5Ri1vRDA', fname='imanishi_data.csv', path=PSDS_PATH)\n",
    "\n",
    "## Import lung disease data\n",
    "download_from_google_drive('0B98qpkK5EJemb25YYUFJZnZVSnM', fname='LungDisease.csv', path=PSDS_PATH)\n",
    "\n",
    "## Import Zillow's county level ZHVI \n",
    "download_from_google_drive('0B98qpkK5EJemWGRWOEhYN1RabVk', fname='County_Zhvi_AllHomes.csv', path=PSDS_PATH)\n",
    "\n",
    "## Import King county house sales data\n",
    "download_from_google_drive('0B98qpkK5EJemVTRRN0dLakxwTmM', fname='house_sales.csv', path=PSDS_PATH)"
   ]
  },
  {
   "cell_type": "code",
   "execution_count": 36,
   "metadata": {},
   "outputs": [],
   "source": [
    "murder = np.genfromtxt(PSDS_PATH+'state.csv', delimiter=',', deletechars='\"', \\\n",
    "                       dtype=['U15','i4','f4','U15'], encoding='ascii', skip_header=1, names=['Name', 'Pop', 'MR', 'Code'])"
   ]
  },
  {
   "cell_type": "code",
   "execution_count": 37,
   "metadata": {},
   "outputs": [
    {
     "data": {
      "text/plain": [
       "array([('\"Alabama\"',  4779736, 5.7, '\"AL\"'),\n",
       "       ('\"Alaska\"',   710231, 5.6, '\"AK\"'),\n",
       "       ('\"Arizona\"',  6392017, 4.7, '\"AZ\"'),\n",
       "       ('\"Arkansas\"',  2915918, 5.6, '\"AR\"'),\n",
       "       ('\"California\"', 37253956, 4.4, '\"CA\"'),\n",
       "       ('\"Colorado\"',  5029196, 2.8, '\"CO\"'),\n",
       "       ('\"Connecticut\"',  3574097, 2.4, '\"CT\"'),\n",
       "       ('\"Delaware\"',   897934, 5.8, '\"DE\"'),\n",
       "       ('\"Florida\"', 18801310, 5.8, '\"FL\"'),\n",
       "       ('\"Georgia\"',  9687653, 5.7, '\"GA\"')],\n",
       "      dtype=[('Name', '<U15'), ('Pop', '<i4'), ('MR', '<f4'), ('Code', '<U15')])"
      ]
     },
     "execution_count": 37,
     "metadata": {},
     "output_type": "execute_result"
    }
   ],
   "source": [
    "murder[0:10]"
   ]
  },
  {
   "cell_type": "code",
   "execution_count": 32,
   "metadata": {},
   "outputs": [
    {
     "data": {
      "text/plain": [
       "array([('\"Virginia\"', 8001024, 4.1, '\"VA\"'),\n",
       "       ('\"Washington\"', 6724540, 2.5, '\"WA\"'),\n",
       "       ('\"West Virginia\"', 1852994, 4. , '\"WV\"'),\n",
       "       ('\"Wisconsin\"', 5686986, 2.9, '\"WI\"'),\n",
       "       ('\"Wyoming\"',  563626, 2.7, '\"WY\"')],\n",
       "      dtype=[('f0', '<U15'), ('f1', '<i4'), ('f2', '<f4'), ('f3', '<U15')])"
      ]
     },
     "execution_count": 32,
     "metadata": {},
     "output_type": "execute_result"
    }
   ],
   "source": [
    "murder[-5:]"
   ]
  },
  {
   "cell_type": "code",
   "execution_count": 45,
   "metadata": {},
   "outputs": [
    {
     "data": {
      "text/plain": [
       "array(['\"Alabama\"', '\"Alaska\"', '\"Arizona\"', '\"Arkansas\"', '\"California\"',\n",
       "       '\"Colorado\"', '\"Connecticut\"', '\"Delaware\"', '\"Florida\"',\n",
       "       '\"Georgia\"'], dtype='<U15')"
      ]
     },
     "execution_count": 45,
     "metadata": {},
     "output_type": "execute_result"
    }
   ],
   "source": [
    "murder['Name'][0:10]"
   ]
  },
  {
   "cell_type": "code",
   "execution_count": 40,
   "metadata": {},
   "outputs": [
    {
     "data": {
      "text/plain": [
       "array([ 4779736,   710231,  6392017,  2915918, 37253956,  5029196,\n",
       "        3574097,   897934, 18801310,  9687653,  1360301,  1567582,\n",
       "       12830632,  6483802,  3046355,  2853118,  4339367,  4533372,\n",
       "        1328361,  5773552,  6547629,  9883640,  5303925,  2967297,\n",
       "        5988927,   989415,  1826341,  2700551,  1316470,  8791894,\n",
       "        2059179, 19378102,  9535483,   672591, 11536504,  3751351,\n",
       "        3831074, 12702379,  1052567,  4625364,   814180,  6346105,\n",
       "       25145561,  2763885,   625741,  8001024,  6724540,  1852994,\n",
       "        5686986,   563626])"
      ]
     },
     "execution_count": 40,
     "metadata": {},
     "output_type": "execute_result"
    }
   ],
   "source": [
    "murder['Pop']"
   ]
  },
  {
   "cell_type": "code",
   "execution_count": 44,
   "metadata": {},
   "outputs": [
    {
     "data": {
      "text/plain": [
       "<matplotlib.collections.PathCollection at 0x1ebb7865c88>"
      ]
     },
     "execution_count": 44,
     "metadata": {},
     "output_type": "execute_result"
    },
    {
     "data": {
      "image/png": "[encoded data removed]",
      "text/plain": [
       "<matplotlib.figure.Figure at 0x1ebb580b438>"
      ]
     },
     "metadata": {},
     "output_type": "display_data"
    }
   ],
   "source": [
    "plt.scatter(x=murder['Pop'], y=murder['MR'])"
   ]
  },
  {
   "cell_type": "code",
   "execution_count": 47,
   "metadata": {},
   "outputs": [
    {
     "data": {
      "text/plain": [
       "DescribeResult(nobs=50, minmax=(563626, 37253956), mean=6162876.3, variance=46898327373394.445, skewness=2.5626855429174094, kurtosis=7.756338866239435)"
      ]
     },
     "execution_count": 47,
     "metadata": {},
     "output_type": "execute_result"
    }
   ],
   "source": [
    "stats.describe(murder['Pop'])"
   ]
  },
  {
   "cell_type": "code",
   "execution_count": 49,
   "metadata": {},
   "outputs": [
    {
     "data": {
      "text/plain": [
       "4783697.125"
      ]
     },
     "execution_count": 49,
     "metadata": {},
     "output_type": "execute_result"
    }
   ],
   "source": [
    "stats.trim_mean(murder['Pop'], 0.1)"
   ]
  },
  {
   "cell_type": "code",
   "execution_count": 57,
   "metadata": {},
   "outputs": [
    {
     "name": "stdout",
     "output_type": "stream",
     "text": [
      "6.2 million\n",
      "4.8 million\n"
     ]
    }
   ],
   "source": [
    "print(hu.intword(6162876))\n",
    "print(hu.intword( stats.trim_mean(murder['Pop'], 0.1)))\n",
    "\n"
   ]
  },
  {
   "cell_type": "code",
   "execution_count": 65,
   "metadata": {},
   "outputs": [
    {
     "data": {
      "text/plain": [
       "['6.2 million',\n",
       " '5.6 million',\n",
       " '5.6 million',\n",
       " '5.3 million',\n",
       " '5.3 million',\n",
       " '5.1 million',\n",
       " '5.1 million',\n",
       " '4.9 million',\n",
       " '4.9 million',\n",
       " '4.8 million',\n",
       " '4.8 million',\n",
       " '4.7 million',\n",
       " '4.7 million',\n",
       " '4.6 million',\n",
       " '4.6 million',\n",
       " '4.5 million',\n",
       " '4.5 million',\n",
       " '4.5 million',\n",
       " '4.5 million',\n",
       " '4.4 million',\n",
       " '4.4 million',\n",
       " '4.4 million',\n",
       " '4.4 million',\n",
       " '4.3 million',\n",
       " '4.3 million',\n",
       " '4.3 million',\n",
       " '4.3 million',\n",
       " '4.4 million',\n",
       " '4.4 million',\n",
       " '4.4 million']"
      ]
     },
     "execution_count": 65,
     "metadata": {},
     "output_type": "execute_result"
    }
   ],
   "source": [
    "[hu.intword(stats.trim_mean(murder['Pop'], x/100.0)) for x in range(1,31)]"
   ]
  },
  {
   "cell_type": "code",
   "execution_count": 68,
   "metadata": {},
   "outputs": [
    {
     "data": {
      "text/plain": [
       "<matplotlib.collections.PathCollection at 0x1ebb834e080>"
      ]
     },
     "execution_count": 68,
     "metadata": {},
     "output_type": "execute_result"
    },
    {
     "data": {
      "image/png": "[encoded data removed]",
      "text/plain": [
       "<matplotlib.figure.Figure at 0x1ebb8307320>"
      ]
     },
     "metadata": {},
     "output_type": "display_data"
    }
   ],
   "source": [
    "plt.scatter(x=range(1,31), y= [stats.trim_mean(murder['Pop'], x/100.0) for x in range(1,31)])"
   ]
  },
  {
   "cell_type": "code",
   "execution_count": 69,
   "metadata": {},
   "outputs": [
    {
     "data": {
      "text/plain": [
       "4783697.125"
      ]
     },
     "execution_count": 69,
     "metadata": {},
     "output_type": "execute_result"
    }
   ],
   "source": [
    "stats.trim_mean(murder['Pop'], 0.1) "
   ]
  },
  {
   "cell_type": "code",
   "execution_count": 80,
   "metadata": {},
   "outputs": [
    {
     "data": {
      "text/plain": [
       "'4.4 million'"
      ]
     },
     "execution_count": 80,
     "metadata": {},
     "output_type": "execute_result"
    }
   ],
   "source": [
    "hu.intword(np.median(murder['Pop']))"
   ]
  },
  {
   "cell_type": "code",
   "execution_count": 83,
   "metadata": {},
   "outputs": [
    {
     "data": {
      "image/png": "[encoded data removed]",
      "text/plain": [
       "<matplotlib.figure.Figure at 0x1ebb96bdc88>"
      ]
     },
     "metadata": {},
     "output_type": "display_data"
    }
   ],
   "source": [
    "plt.hist(murder['Pop'], bins=10);"
   ]
  },
  {
   "cell_type": "code",
   "execution_count": 85,
   "metadata": {},
   "outputs": [
    {
     "data": {
      "image/png": "[encoded data removed]",
      "text/plain": [
       "<matplotlib.figure.Figure at 0x1ebb9818320>"
      ]
     },
     "metadata": {},
     "output_type": "display_data"
    }
   ],
   "source": [
    "plt.hist(murder['MR'], bins=10, width=0.9);"
   ]
  },
  {
   "cell_type": "code",
   "execution_count": 88,
   "metadata": {},
   "outputs": [
    {
     "data": {
      "text/plain": [
       "('2.9 million', '5.8 million')"
      ]
     },
     "execution_count": 88,
     "metadata": {},
     "output_type": "execute_result"
    }
   ],
   "source": [
    "hu.intword(stats.mstats.median_cihs(murder['Pop'])[0]), hu.intword(stats.mstats.median_cihs(murder['Pop'])[1])"
   ]
  },
  {
   "cell_type": "code",
   "execution_count": 98,
   "metadata": {},
   "outputs": [
    {
     "data": {
      "image/png": "[encoded data removed]",
      "text/plain": [
       "<matplotlib.figure.Figure at 0x1ebb9c324e0>"
      ]
     },
     "metadata": {},
     "output_type": "display_data"
    }
   ],
   "source": [
    "plt.hist(murder['Pop']/1_000_000);"
   ]
  },
  {
   "cell_type": "code",
   "execution_count": 103,
   "metadata": {},
   "outputs": [
    {
     "data": {
      "image/png": "[encoded data removed]",
      "text/plain": [
       "<matplotlib.figure.Figure at 0x1ebb9ca65f8>"
      ]
     },
     "metadata": {},
     "output_type": "display_data"
    }
   ],
   "source": [
    "plt.boxplot(murder['Pop']/1_000_000);"
   ]
  },
  {
   "cell_type": "code",
   "execution_count": 102,
   "metadata": {},
   "outputs": [
    {
     "data": {
      "image/png": "[encoded data removed]",
      "text/plain": [
       "<matplotlib.figure.Figure at 0x1ebb9cbccf8>"
      ]
     },
     "metadata": {},
     "output_type": "display_data"
    }
   ],
   "source": [
    "plt.boxplot(murder['MR']);"
   ]
  },
  {
   "cell_type": "code",
   "execution_count": 105,
   "metadata": {},
   "outputs": [
    {
     "data": {
      "text/plain": [
       "4436369.5"
      ]
     },
     "execution_count": 105,
     "metadata": {},
     "output_type": "execute_result"
    }
   ],
   "source": [
    "np.median(murder['Pop'])"
   ]
  },
  {
   "cell_type": "code",
   "execution_count": 106,
   "metadata": {},
   "outputs": [
    {
     "data": {
      "text/plain": [
       "DescribeResult(nobs=50, minmax=(563626, 37253956), mean=6162876.3, variance=46898327373394.445, skewness=2.5626855429174094, kurtosis=7.756338866239435)"
      ]
     },
     "execution_count": 106,
     "metadata": {},
     "output_type": "execute_result"
    }
   ],
   "source": [
    "x = stats.describe(murder['Pop'])\n",
    "x"
   ]
  },
  {
   "cell_type": "code",
   "execution_count": 107,
   "metadata": {},
   "outputs": [
    {
     "data": {
      "text/plain": [
       "46898327373394.445"
      ]
     },
     "execution_count": 107,
     "metadata": {},
     "output_type": "execute_result"
    }
   ],
   "source": [
    "x.variance"
   ]
  },
  {
   "cell_type": "code",
   "execution_count": 108,
   "metadata": {},
   "outputs": [],
   "source": [
    "std = np.sqrt(x.variance)"
   ]
  },
  {
   "cell_type": "code",
   "execution_count": 109,
   "metadata": {},
   "outputs": [
    {
     "data": {
      "text/plain": [
       "6848235.347401142"
      ]
     },
     "execution_count": 109,
     "metadata": {},
     "output_type": "execute_result"
    }
   ],
   "source": [
    "std"
   ]
  },
  {
   "cell_type": "code",
   "execution_count": 111,
   "metadata": {},
   "outputs": [
    {
     "data": {
      "text/plain": [
       "6848235.347401144"
      ]
     },
     "execution_count": 111,
     "metadata": {},
     "output_type": "execute_result"
    }
   ],
   "source": [
    "np.std(murder['Pop'])*np.sqrt(50/49)"
   ]
  },
  {
   "cell_type": "code",
   "execution_count": 112,
   "metadata": {},
   "outputs": [
    {
     "data": {
      "text/plain": [
       "4847308.0"
      ]
     },
     "execution_count": 112,
     "metadata": {},
     "output_type": "execute_result"
    }
   ],
   "source": [
    "stats.iqr(murder['Pop'])"
   ]
  },
  {
   "cell_type": "code",
   "execution_count": 120,
   "metadata": {},
   "outputs": [
    {
     "data": {
      "text/plain": [
       "3849876.1459979336"
      ]
     },
     "execution_count": 120,
     "metadata": {},
     "output_type": "execute_result"
    }
   ],
   "source": [
    "rb.mad(murder['Pop'])\n"
   ]
  },
  {
   "cell_type": "code",
   "execution_count": null,
   "metadata": {},
   "outputs": [],
   "source": []
  }
 ],
 "metadata": {
  "kernelspec": {
   "display_name": "Python [conda env:root36]",
   "language": "python",
   "name": "conda-env-root36-py"
  },
  "language_info": {
   "codemirror_mode": {
    "name": "ipython",
    "version": 3
   },
   "file_extension": ".py",
   "mimetype": "text/x-python",
   "name": "python",
   "nbconvert_exporter": "python",
   "pygments_lexer": "ipython3",
   "version": "3.6.3"
  }
 },
 "nbformat": 4,
 "nbformat_minor": 2
}
